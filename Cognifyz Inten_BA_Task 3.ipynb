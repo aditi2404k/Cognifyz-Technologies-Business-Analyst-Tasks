{
 "cells": [
  {
   "cell_type": "markdown",
   "id": "4c219e2a",
   "metadata": {},
   "source": [
    "## Level 2\n",
    "### Task 3: Descriptive Statistics\n",
    "\n",
    "Objective: Present basic statistics for\n",
    "numerical columns."
   ]
  },
  {
   "cell_type": "code",
   "execution_count": 4,
   "id": "5edbfa84",
   "metadata": {},
   "outputs": [],
   "source": [
    "import pandas as pd"
   ]
  },
  {
   "cell_type": "code",
   "execution_count": 5,
   "id": "735a7775",
   "metadata": {},
   "outputs": [
    {
     "name": "stdout",
     "output_type": "stream",
     "text": [
      "numerical columns: ['age', 'Mutual_Funds', 'Equity_Market', 'Debentures', 'Government_Bonds', 'Fixed_Deposits', 'PPF', 'Gold']\n",
      "\n",
      "Descriptive Statistics:\n",
      "\n",
      "              age  Mutual_Funds  Equity_Market  Debentures  Government_Bonds  \\\n",
      "mean    27.800000      2.550000       3.475000    5.750000          4.650000   \n",
      "median  27.000000      2.000000       4.000000    6.500000          5.000000   \n",
      "std      3.560467      1.197219       1.131994    1.675617          1.369072   \n",
      "\n",
      "        Fixed_Deposits       PPF      Gold  \n",
      "mean          3.575000  2.025000  5.975000  \n",
      "median        3.500000  1.000000  6.000000  \n",
      "std           1.795828  1.609069  1.143263  \n"
     ]
    }
   ],
   "source": [
    "df = pd.read_csv(\"D:\\Data_set 2 - Copy.csv\")\n",
    "\n",
    "# Numerical Columns\n",
    "numerical_columns = df.select_dtypes(include=['int64', 'float64']).columns\n",
    "print(\"numerical columns:\", numerical_columns.tolist())\n",
    "\n",
    "# Displaying statistics\n",
    "statistics = df[numerical_columns].agg(['mean', 'median', 'std'])\n",
    "\n",
    "# Result\n",
    "print(\"\\nDescriptive Statistics:\\n\")\n",
    "print(statistics)"
   ]
  },
  {
   "cell_type": "code",
   "execution_count": null,
   "id": "4944b1dd",
   "metadata": {},
   "outputs": [],
   "source": []
  }
 ],
 "metadata": {
  "kernelspec": {
   "display_name": "base",
   "language": "python",
   "name": "python3"
  },
  "language_info": {
   "codemirror_mode": {
    "name": "ipython",
    "version": 3
   },
   "file_extension": ".py",
   "mimetype": "text/x-python",
   "name": "python",
   "nbconvert_exporter": "python",
   "pygments_lexer": "ipython3",
   "version": "3.11.7"
  }
 },
 "nbformat": 4,
 "nbformat_minor": 5
}
