{
 "cells": [
  {
   "cell_type": "markdown",
   "id": "73bba525",
   "metadata": {},
   "source": [
    "## Level 4\n",
    "### Task 7: Common Information Sources\n",
    "\n",
    "Objective: Analyze common sources participants rely on for investment information."
   ]
  },
  {
   "cell_type": "code",
   "execution_count": 1,
   "id": "49c75b03",
   "metadata": {},
   "outputs": [
    {
     "name": "stdout",
     "output_type": "stream",
     "text": [
      "Sample Information Sources:\n",
      "0    Newspapers and Magazines\n",
      "1       Financial Consultants\n",
      "2                  Television\n",
      "3                    Internet\n",
      "4                    Internet\n",
      "5                    Internet\n",
      "6       Financial Consultants\n",
      "7    Newspapers and Magazines\n",
      "8                  Television\n",
      "9    Newspapers and Magazines\n",
      "Name: Source, dtype: object\n",
      "\n",
      " Missing values in 'Source' column: 0\n",
      "\n",
      " Most Common Information Sources:\n",
      "Source\n",
      "Financial Consultants       16\n",
      "Newspapers and Magazines    14\n",
      "Television                   6\n",
      "Internet                     4\n",
      "Name: count, dtype: int64\n",
      "\n",
      " Conclusion:\n",
      "Participants most commonly rely on the following sources for investment decisions:\n",
      "- Financial Consultants: mentioned 16 times\n",
      "- Newspapers and Magazines: mentioned 14 times\n",
      "- Television: mentioned 6 times\n",
      "- Internet: mentioned 4 times\n"
     ]
    }
   ],
   "source": [
    "import pandas as pd\n",
    "df = pd.read_csv(\"D:\\Data_set 2 - Copy.csv\")\n",
    "\n",
    "# Exploring the 'Source' column\n",
    "column_name = 'Source'\n",
    "print(\"Sample Information Sources:\")\n",
    "print(df[column_name].dropna().head(10))  # Show first 10 non-null entries\n",
    "\n",
    "missing_values = df[column_name].isnull().sum()\n",
    "print(f\"\\n Missing values in '{column_name}' column: {missing_values}\")\n",
    "info_sources = df[column_name].dropna().astype(str).str.strip()\n",
    "\n",
    "# Counting frequency of unique sources\n",
    "common_sources = info_sources.value_counts()\n",
    "\n",
    "# Most common sources\n",
    "print(\"\\n Most Common Information Sources:\")\n",
    "print(common_sources.head(10))\n",
    "\n",
    "# Conclusion\n",
    "print(\"\\n Conclusion:\")\n",
    "print(\"Participants most commonly rely on the following sources for investment decisions:\")\n",
    "for source, count in common_sources.items():\n",
    "    print(f\"- {source}: mentioned {count} times\")"
   ]
  },
  {
   "cell_type": "code",
   "execution_count": null,
   "id": "1625aa2c",
   "metadata": {},
   "outputs": [],
   "source": []
  }
 ],
 "metadata": {
  "kernelspec": {
   "display_name": "base",
   "language": "python",
   "name": "python3"
  },
  "language_info": {
   "codemirror_mode": {
    "name": "ipython",
    "version": 3
   },
   "file_extension": ".py",
   "mimetype": "text/x-python",
   "name": "python",
   "nbconvert_exporter": "python",
   "pygments_lexer": "ipython3",
   "version": "3.11.7"
  }
 },
 "nbformat": 4,
 "nbformat_minor": 5
}
