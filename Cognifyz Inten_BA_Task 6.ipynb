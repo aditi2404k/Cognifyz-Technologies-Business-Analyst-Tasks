{
 "cells": [
  {
   "cell_type": "markdown",
   "id": "0ab87075",
   "metadata": {},
   "source": [
    "## Level 3\n",
    "### Task 6: Savings Objectives\n",
    "Objective: Identify and present main\n",
    "savings objectives."
   ]
  },
  {
   "cell_type": "code",
   "execution_count": 1,
   "id": "664fbd7f",
   "metadata": {},
   "outputs": [],
   "source": [
    "import pandas as pd\n",
    "from collections import Counter\n",
    "import matplotlib.pyplot as plt\n",
    "import seaborn as sns\n",
    "df = pd.read_csv(\"D:\\Data_set 2 - Copy.csv\")"
   ]
  },
  {
   "cell_type": "code",
   "execution_count": 2,
   "id": "a78b7c60",
   "metadata": {},
   "outputs": [
    {
     "name": "stdout",
     "output_type": "stream",
     "text": [
      "🔍 Sample Savings Objectives:\n",
      "0    Retirement Plan\n",
      "1        Health Care\n",
      "2    Retirement Plan\n",
      "3    Retirement Plan\n",
      "4    Retirement Plan\n",
      "5    Retirement Plan\n",
      "6    Retirement Plan\n",
      "7    Retirement Plan\n",
      "8    Retirement Plan\n",
      "9    Retirement Plan\n",
      "Name: What are your savings objectives?, dtype: object\n"
     ]
    }
   ],
   "source": [
    "savings_col = 'What are your savings objectives?'\n",
    "savings_objectives = df[savings_col].dropna().astype(str).str.strip()\n",
    "\n",
    "#Displaying sample data\n",
    "print(\"🔍 Sample Savings Objectives:\")\n",
    "print(savings_objectives.head(10))\n"
   ]
  },
  {
   "cell_type": "code",
   "execution_count": 3,
   "id": "5fd55bf7",
   "metadata": {},
   "outputs": [
    {
     "name": "stdout",
     "output_type": "stream",
     "text": [
      "\n",
      " Number of Unique Full Responses: 3\n",
      "\n",
      " Most Common Full Responses:\n",
      "What are your savings objectives?\n",
      "Retirement Plan    24\n",
      "Health Care        13\n",
      "Education           3\n",
      "Name: count, dtype: int64\n"
     ]
    }
   ],
   "source": [
    "unique_count = savings_objectives.nunique()\n",
    "print(f\"\\n Number of Unique Full Responses: {unique_count}\")\n",
    "print(\"\\n Most Common Full Responses:\")\n",
    "print(savings_objectives.value_counts().head(5))"
   ]
  },
  {
   "cell_type": "code",
   "execution_count": 6,
   "id": "7dc6d791",
   "metadata": {},
   "outputs": [
    {
     "name": "stdout",
     "output_type": "stream",
     "text": [
      "\n",
      " Main Savings Objectives:\n",
      "\n",
      "What are your savings objectives?\n",
      "Retirement Plan    24\n",
      "Health Care        13\n",
      "Education           3\n",
      "Name: count, dtype: int64\n",
      "\n",
      " Description Summary:\n",
      "Participants' main savings objectives include:\n",
      "- Retirement Plan: mentioned 24 times\n",
      "- Health Care: mentioned 13 times\n",
      "- Education: mentioned 3 times\n"
     ]
    }
   ],
   "source": [
    "# Listing unique savings objectives and their counts\n",
    "savings_objectives_list = savings_objectives.value_counts()\n",
    "\n",
    "print(\"\\n Main Savings Objectives:\\n\")\n",
    "print(savings_objectives_list)\n",
    "\n",
    "# Summary Description\n",
    "print(\"\\n Description Summary:\\nParticipants' main savings objectives include:\")\n",
    "for objective, count in savings_objectives_list.items():\n",
    "    print(f\"- {objective}: mentioned {count} times\")"
   ]
  },
  {
   "cell_type": "code",
   "execution_count": null,
   "id": "99196879",
   "metadata": {},
   "outputs": [],
   "source": []
  }
 ],
 "metadata": {
  "kernelspec": {
   "display_name": "base",
   "language": "python",
   "name": "python3"
  },
  "language_info": {
   "codemirror_mode": {
    "name": "ipython",
    "version": 3
   },
   "file_extension": ".py",
   "mimetype": "text/x-python",
   "name": "python",
   "nbconvert_exporter": "python",
   "pygments_lexer": "ipython3",
   "version": "3.11.7"
  }
 },
 "nbformat": 4,
 "nbformat_minor": 5
}
