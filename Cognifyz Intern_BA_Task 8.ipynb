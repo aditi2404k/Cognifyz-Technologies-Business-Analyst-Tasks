{
 "cells": [
  {
   "cell_type": "markdown",
   "id": "438f20ba",
   "metadata": {},
   "source": [
    "## Level 4\n",
    "### Task 8: Investment Duration\n",
    "\n",
    "Objective: Calculate the average investment duration."
   ]
  },
  {
   "cell_type": "code",
   "execution_count": 2,
   "id": "56637feb",
   "metadata": {},
   "outputs": [
    {
     "name": "stdout",
     "output_type": "stream",
     "text": [
      " Sample Investment Durations:\n",
      "0            1-3 years\n",
      "1    More than 5 years\n",
      "2            3-5 years\n",
      "3     Less than 1 year\n",
      "4     Less than 1 year\n",
      "5            1-3 years\n",
      "6            3-5 years\n",
      "7            3-5 years\n",
      "8            1-3 years\n",
      "9            3-5 years\n",
      "Name: Duration, dtype: object\n",
      "\n",
      " Unconverted or missing values in 'Duration_Numeric': 0\n",
      "\n",
      " Average Investment Duration: 2.98 years\n"
     ]
    }
   ],
   "source": [
    "import pandas as pd\n",
    "df = pd.read_csv(\"D:\\Data_set 2 - Copy.csv\")\n",
    "\n",
    "print(\" Sample Investment Durations:\")\n",
    "print(df['Duration'].dropna().head(10))\n",
    "\n",
    "# Defining a mapping for categorical durations to numeric values (in years)\n",
    "duration_mapping = {\n",
    "    \"Less than 1 year\": 0.5,\n",
    "    \"1-3 years\": 2,\n",
    "    \"3-5 years\": 4,\n",
    "    \"More than 5 years\": 6\n",
    "}\n",
    "\n",
    "# Creating a numeric column\n",
    "df['Duration_Numeric'] = df['Duration'].map(duration_mapping)\n",
    "\n",
    "# Checking for any unconverted or missing values\n",
    "missing = df['Duration_Numeric'].isnull().sum()\n",
    "print(f\"\\n Unconverted or missing values in 'Duration_Numeric': {missing}\")\n",
    "\n",
    "# Average duration\n",
    "average = df['Duration_Numeric'].mean()\n",
    "print(f\"\\n Average Investment Duration: {average:.2f} years\")"
   ]
  },
  {
   "cell_type": "code",
   "execution_count": null,
   "id": "36b4f768",
   "metadata": {},
   "outputs": [],
   "source": []
  }
 ],
 "metadata": {
  "kernelspec": {
   "display_name": "base",
   "language": "python",
   "name": "python3"
  },
  "language_info": {
   "codemirror_mode": {
    "name": "ipython",
    "version": 3
   },
   "file_extension": ".py",
   "mimetype": "text/x-python",
   "name": "python",
   "nbconvert_exporter": "python",
   "pygments_lexer": "ipython3",
   "version": "3.11.7"
  }
 },
 "nbformat": 4,
 "nbformat_minor": 5
}
